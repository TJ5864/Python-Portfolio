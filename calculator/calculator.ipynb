{
 "cells": [
  {
   "cell_type": "code",
   "execution_count": null,
   "metadata": {},
   "outputs": [],
   "source": [
    "# Plan to create my calculator, mehtod for adding, dividng , multiplying , squaring , dividing , squarerooting "
   ]
  },
  {
   "cell_type": "code",
   "execution_count": 1,
   "metadata": {},
   "outputs": [],
   "source": [
    "import math"
   ]
  },
  {
   "cell_type": "code",
   "execution_count": 1,
   "metadata": {},
   "outputs": [],
   "source": [
    "def add( x, y):\n",
    "    try: \n",
    "        x = int(x)\n",
    "        y = int(y)\n",
    "        z = x + y \n",
    "        return z\n",
    "    except ValueError as a:\n",
    "        return f\"Error: Invalid input.{a}.\""
   ]
  },
  {
   "cell_type": "code",
   "execution_count": 2,
   "metadata": {},
   "outputs": [],
   "source": [
    "def subtract(x, y):\n",
    "    try:\n",
    "        x = int(x)\n",
    "        y = int(y)\n",
    "        z = x - y\n",
    "        return z\n",
    "    except ValueError as a:\n",
    "        return f\"Error : {a}\"\n"
   ]
  },
  {
   "cell_type": "code",
   "execution_count": 3,
   "metadata": {},
   "outputs": [],
   "source": [
    "def multiply(x , y):\n",
    "    try:\n",
    "        x = int(x)\n",
    "        y = int(y)\n",
    "        return x * y\n",
    "    except ValueError as z :\n",
    "        return f\"Error: {z}.\""
   ]
  },
  {
   "cell_type": "code",
   "execution_count": 5,
   "metadata": {},
   "outputs": [],
   "source": [
    "def divide( x, y):\n",
    "    try:\n",
    "        x = int(x)\n",
    "        y = int(y)\n",
    "        return x / y\n",
    "    except ZeroDivisionError as z:\n",
    "        return f\"Error: {z}\""
   ]
  },
  {
   "cell_type": "code",
   "execution_count": 7,
   "metadata": {},
   "outputs": [],
   "source": [
    "def power(x, y):\n",
    "    try: \n",
    "        if x == 0:\n",
    "            return 0\n",
    "        elif y == 0:\n",
    "            return 1\n",
    "        else:\n",
    "            return math.pow(x,y)\n",
    "        \n",
    "    except ValueError as z:\n",
    "        return f\"Error: {z}\"\n",
    "        "
   ]
  },
  {
   "cell_type": "code",
   "execution_count": 16,
   "metadata": {},
   "outputs": [],
   "source": [
    "### Working on solving inner parentheses // not utilized yet\n",
    "import re\n",
    "def solve(a):\n",
    "    while '(' in a:\n",
    "        newa = findPar(a)\n",
    "    return innerSolve(newa)\n",
    "\n",
    "    \n",
    "\n",
    "\n",
    "def findPar( y ):\n",
    "    match = re.search(r'\\(.+\\)', y)\n",
    "    if not match:\n",
    "        result = innerSolve(y)\n",
    "        # use re to replace that group with the result \n",
    "    inner = match.group(1)\n",
    "    \n",
    "    # Solve the inner expression\n",
    "    result = innerSolve(inner)\n",
    "    \n",
    "    # Replace the matched parentheses with the result\n",
    "    expression = expression[:match.start()] + str(result) + expression[match.end():]\n",
    "    \n",
    "    return expression\n",
    "\n",
    "\n",
    "def innerSolve( x ):\n",
    "    if( '+' in x ):\n",
    "        return add( map(int, x.split('+')) )\n",
    "    if( '*' in x ):\n",
    "        return multiply(map(int, x.split('*')))\n",
    "    if( '-' in x ):\n",
    "        return subtract(map(int, x.split('-')))\n",
    "    if ('/' in x):\n",
    "        return divide(map(int, x.split('/')))\n",
    "    if ('^' in x):\n",
    "        return power(map(int, x.split('^')))\n",
    "\n",
    "   \n",
    "\n",
    "\n",
    "              \n",
    "              \n",
    "\n"
   ]
  },
  {
   "cell_type": "code",
   "execution_count": 16,
   "metadata": {},
   "outputs": [],
   "source": [
    "import re\n",
    "\n",
    "def solve(expression, operator):\n",
    "    num1, num2 = map(int, expression.split(operator))\n",
    "    if operator == '+':\n",
    "        return num1 + num2\n",
    "    elif operator == '-':\n",
    "        return num1 - num2\n",
    "    elif operator == '*':\n",
    "        return num1 * num2\n",
    "    elif operator == '/':\n",
    "        return num1 // num2  # Use // for integer division\n",
    "\n",
    "\n",
    "\n",
    "\n",
    "def useCalc():\n",
    "    expression = input(\"Test Calculator, use +, -, *, /, ^(for power): \")\n",
    "    expression = re.sub(r'\\s+', '', expression)  # Remove any whitespace\n",
    "\n",
    "\n",
    "    operations = {\n",
    "        '^': r'(\\d+)\\^(\\d+)',\n",
    "        '*': r'(\\d+)\\*(\\d+)',\n",
    "        '/': r'(\\d+)/(\\d+)',\n",
    "        '+': r'(\\d+)\\+(\\d+)',\n",
    "        '-': r'(\\d+)-(\\d+)',\n",
    "    }\n",
    "\n",
    "    def process_operation(expression, op_regex, operator):\n",
    "        match = re.search(op_regex, expression)\n",
    "        while match:\n",
    "            full_match = match.group(0)\n",
    "            result = solve(full_match, operator)\n",
    "            expression = expression.replace(full_match, str(result), 1)\n",
    "            match = re.search(op_regex, expression)\n",
    "        return expression\n",
    "\n",
    "    while any(op in expression for op in '^*/+-'):\n",
    "        if '^' in expression:\n",
    "            expression = process_operation(expression, operations['^'], '^')\n",
    "        elif '*' in expression or '/' in expression:\n",
    "            if '*' in expression:\n",
    "                expression = process_operation(expression, operations['*'], '*')\n",
    "            if '/' in expression:\n",
    "                expression = process_operation(expression, operations['/'], '/')\n",
    "        elif '+' in expression or '-' in expression:\n",
    "            if '+' in expression:\n",
    "                expression = process_operation(expression, operations['+'], '+')\n",
    "            if '-' in expression:\n",
    "                expression = process_operation(expression, operations['-'], '-')\n",
    "\n",
    "    print(\"Result:\", expression)\n"
   ]
  },
  {
   "cell_type": "code",
   "execution_count": 17,
   "metadata": {},
   "outputs": [
    {
     "name": "stdout",
     "output_type": "stream",
     "text": [
      "Result: 11\n"
     ]
    }
   ],
   "source": [
    "useCalc()"
   ]
  }
 ],
 "metadata": {
  "kernelspec": {
   "display_name": "Python 3",
   "language": "python",
   "name": "python3"
  },
  "language_info": {
   "codemirror_mode": {
    "name": "ipython",
    "version": 3
   },
   "file_extension": ".py",
   "mimetype": "text/x-python",
   "name": "python",
   "nbconvert_exporter": "python",
   "pygments_lexer": "ipython3",
   "version": "3.12.5"
  },
  "orig_nbformat": 4
 },
 "nbformat": 4,
 "nbformat_minor": 2
}
